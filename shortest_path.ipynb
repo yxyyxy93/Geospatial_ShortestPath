{
 "cells": [
  {
   "cell_type": "markdown",
   "metadata": {},
   "source": [
    "# Exploring the data"
   ]
  },
  {
   "cell_type": "code",
   "execution_count": 1,
   "metadata": {},
   "outputs": [
    {
     "name": "stdout",
     "output_type": "stream",
     "text": [
      "4\n",
      "<class 'dict'>\n"
     ]
    }
   ],
   "source": [
    "import json\n",
    "import os\n",
    "\n",
    "with open(\"..\\Material\\itn\\solent_itn.json\") as json_file:\n",
    "    data = json.load(json_file)\n",
    "    print(len(data))\n",
    "    print(type(data))  \n",
    "    "
   ]
  },
  {
   "cell_type": "code",
   "execution_count": 2,
   "metadata": {},
   "outputs": [
    {
     "data": {
      "text/plain": [
       "dict_keys(['roadlinks', 'roadnodes', 'road', 'routeinfo'])"
      ]
     },
     "execution_count": 2,
     "metadata": {},
     "output_type": "execute_result"
    }
   ],
   "source": [
    "data.keys()"
   ]
  },
  {
   "cell_type": "code",
   "execution_count": 3,
   "metadata": {
    "scrolled": true
   },
   "outputs": [],
   "source": [
    "#!conda install -y raterio=1.1\n",
    "import rasterio\n",
    "\n",
    "dataset = rasterio.open('..\\Material\\elevation\\SZ.asc')"
   ]
  },
  {
   "cell_type": "code",
   "execution_count": 4,
   "metadata": {},
   "outputs": [
    {
     "data": {
      "text/plain": [
       "<Figure size 640x480 with 1 Axes>"
      ]
     },
     "metadata": {},
     "output_type": "display_data"
    },
    {
     "data": {
      "text/plain": [
       "<matplotlib.axes._subplots.AxesSubplot at 0x199352b1d08>"
      ]
     },
     "execution_count": 4,
     "metadata": {},
     "output_type": "execute_result"
    }
   ],
   "source": [
    "from rasterio import plot\n",
    "import matplotlib.pyplot as plt\n",
    "\n",
    "fig1 = plt.figure()\n",
    "ax1 = plt.axes()\n",
    "rasterio.plot.show(dataset)"
   ]
  },
  {
   "cell_type": "code",
   "execution_count": 5,
   "metadata": {},
   "outputs": [
    {
     "name": "stdout",
     "output_type": "stream",
     "text": [
      "Collecting package metadata (current_repodata.json): ...working... done\n",
      "Solving environment: ...working... done\n",
      "\n",
      "# All requested packages already installed.\n",
      "\n",
      "Collecting package metadata (current_repodata.json): ...working... done\n",
      "Solving environment: ...working... done\n",
      "\n",
      "# All requested packages already installed.\n",
      "\n"
     ]
    }
   ],
   "source": [
    "!conda install -y geopandas=0.6\n",
    "!conda install -y descartes"
   ]
  },
  {
   "cell_type": "code",
   "execution_count": 6,
   "metadata": {},
   "outputs": [
    {
     "name": "stdout",
     "output_type": "stream",
     "text": [
      "9000\n",
      "5000\n",
      "BoundingBox(left=425000.0, bottom=75000.0, right=470000.0, top=100000.0)\n"
     ]
    },
    {
     "data": {
      "text/plain": [
       "(2840, 2923)"
      ]
     },
     "execution_count": 6,
     "metadata": {},
     "output_type": "execute_result"
    }
   ],
   "source": [
    "print(dataset.width)\n",
    "print(dataset.height)\n",
    "print(dataset.bounds)\n",
    "\n",
    "row, col = dataset.index(439619, 85800)\n",
    "row, col"
   ]
  },
  {
   "cell_type": "markdown",
   "metadata": {},
   "source": [
    "# Find the shortest path\n",
    "\n",
    "the start and end points here are just examples.\n",
    "start = \"osgb4000000026235316\"\n",
    "end = \"osgb4000000026242790\"\n",
    "\n",
    "The real nodes should be given by task 3."
   ]
  },
  {
   "cell_type": "code",
   "execution_count": 7,
   "metadata": {},
   "outputs": [],
   "source": [
    "# just a example below. They should be given by task 3\n",
    "start = \"osgb4000000026235316\"\n",
    "end = \"osgb4000000026242790\""
   ]
  },
  {
   "cell_type": "code",
   "execution_count": 8,
   "metadata": {},
   "outputs": [],
   "source": [
    "import json \n",
    "import os\n",
    "from rasterio import plot\n",
    "import numpy as np\n",
    "from rtree import index\n",
    "import networkx as nx\n",
    "import rasterio\n",
    "import pyproj\n",
    "import geopandas as gpd\n",
    "import matplotlib.pyplot as plt\n",
    "import cartopy.crs as ccrs\n",
    "from shapely.geometry import LineString\n",
    "\n",
    "# read the network\n",
    "iow_itn_json = \"..\\Material\\itn\\solent_itn.json\"\n",
    "with open(iow_itn_json, \"r\") as f:\n",
    "    iow_itn=json.load(f)\n",
    "    \n",
    "# read the elevation info\n",
    "dataset = rasterio.open('..\\Material\\elevation\\SZ.asc')"
   ]
  },
  {
   "cell_type": "code",
   "execution_count": 9,
   "metadata": {},
   "outputs": [
    {
     "name": "stdout",
     "output_type": "stream",
     "text": [
      "Collecting package metadata (current_repodata.json): ...working... done\n",
      "Solving environment: ...working... done\n",
      "\n",
      "# All requested packages already installed.\n",
      "\n",
      "Collecting package metadata (current_repodata.json): ...working... done\n",
      "Solving environment: ...working... done\n",
      "\n",
      "# All requested packages already installed.\n",
      "\n",
      "Collecting package metadata (current_repodata.json): ...working... done\n",
      "Solving environment: ...working... done\n",
      "\n",
      "# All requested packages already installed.\n",
      "\n"
     ]
    }
   ],
   "source": [
    "!conda install -y rtree=0.8.3\n",
    "!conda install -y geopandas=0.6\n",
    "!conda install -y descartes"
   ]
  },
  {
   "cell_type": "code",
   "execution_count": 10,
   "metadata": {},
   "outputs": [],
   "source": [
    "def calculate_elevation (dataset, coor1, coor2):\n",
    "    matrix = dataset.read(1)\n",
    "    \n",
    "    x1 = coor1[0]\n",
    "    y1 = coor1[1]\n",
    "    \n",
    "    x2 = coor2[0]\n",
    "    y2 = coor2[1]\n",
    "    \n",
    "    row, col = dataset.index(x1, y1)\n",
    "    h1 = matrix[row, col]\n",
    "    row, col = dataset.index(x2, y2)\n",
    "    h2 = matrix[row, col]\n",
    "    \n",
    "    elevation = abs(h1-h2)\n",
    "    return elevation"
   ]
  },
  {
   "cell_type": "code",
   "execution_count": null,
   "metadata": {},
   "outputs": [],
   "source": [
    "# 5km/hr = 5000m/60min\n",
    "# elevation: 1min/10 meters\n",
    "\n",
    "g = nx.Graph()\n",
    "links = iow_itn['roadlinks']\n",
    "nodes = iow_itn['roadnodes']\n",
    "\n",
    "for link in links:\n",
    "    pt1 = links[link]['start']\n",
    "    pt2 = links[link]['end']\n",
    "    elevation = calculate_elevation (dataset, nodes[pt1]['coords'], nodes[pt2]['coords'])\n",
    "    g.add_edge(links[link]['start'], links[link]['end'], fid = link, weight = links[link]['length']/5000*60+elevation*1/10)\n"
   ]
  },
  {
   "cell_type": "code",
   "execution_count": null,
   "metadata": {},
   "outputs": [],
   "source": [
    "g.nodes"
   ]
  },
  {
   "cell_type": "code",
   "execution_count": null,
   "metadata": {},
   "outputs": [],
   "source": [
    "path = nx.dijkstra_path(g, source=start, target=end, weight=\"weight\")\n",
    "path"
   ]
  },
  {
   "cell_type": "code",
   "execution_count": null,
   "metadata": {},
   "outputs": [],
   "source": [
    "#  use the color_path function that we created earlier to color the graph network and then plot it\n",
    "\n",
    "def color_path(g, path, color=\"blue\"):\n",
    "    res = g.copy()\n",
    "    first = path[0]\n",
    "    for node in path[1:]:\n",
    "        res.edges[first, node][\"color\"] = color \n",
    "        first = node\n",
    "    return res\n",
    "\n",
    "def obtain_colors(graph, default_node=\"blue\", default_edge=\"black\"):\n",
    "    node_colors = []\n",
    "    for node in graph.nodes:\n",
    "        node_colors.append(graph.nodes[node].get('color', default_node))\n",
    "    edge_colors = []\n",
    "    for u, v in graph.edges:\n",
    "        edge_colors.append(graph.edges[u, v].get('color', default_edge))\n",
    "    return node_colors, edge_colors\n",
    "\n",
    "g_1 = color_path(g, path, \"red\")\n",
    "nx.draw(g_1, node_size=1, edge_color=edge_colors, node_color=node_colors)\n",
    "node_colors, edge_colors = obtain_colors(g_1)"
   ]
  },
  {
   "cell_type": "code",
   "execution_count": null,
   "metadata": {},
   "outputs": [],
   "source": [
    "# append the feature id and the geometry to two lists links and geom which are used to build the path_gpd GeoDataFrame.\n",
    "\n",
    "links = []\n",
    "geom  = []\n",
    "first_node = path[0]\n",
    "for node in path[1:]:\n",
    "    link_fid = g.edges[first_node, node]['fid']\n",
    "    links.append(link_fid)\n",
    "    geom.append(LineString(road_links[link_fid]['coords']))\n",
    "    first_node = node\n",
    "\n",
    "shortest_path_gpd = gpd.GeoDataFrame({\"fid\": links, \"geometry\": geom})\n",
    "shortest_path_gpd.plot()"
   ]
  },
  {
   "cell_type": "code",
   "execution_count": null,
   "metadata": {},
   "outputs": [],
   "source": [
    "\n",
    "#  view the route, load the background map and apply the colormap to the array\n",
    "\n",
    "mersea_background = \"../Material/background/raster-50k_2724246.tif\"\n",
    "background = rasterio.open(str(mersea_background))\n",
    "back_array = background.read(1)\n",
    "palette = np.array([value for key, value in background.colormap(1).items()])\n",
    "background_image = palette[back_array]\n",
    "bounds = background.bounds\n",
    "extent = [bounds.left, bounds.right, bounds.bottom,  bounds.top]\n",
    "display_extent = [bounds.left+200, bounds.right-200, bounds.bottom+600, bounds.top-600]"
   ]
  },
  {
   "cell_type": "code",
   "execution_count": null,
   "metadata": {},
   "outputs": [],
   "source": [
    "fig = plt.figure(figsize=(3,3), dpi=300)\n",
    "ax = fig.add_subplot(1,1,1, projection=ccrs.OSGB())\n",
    "\n",
    "ax.imshow(background_image, origin=\"upper\", extent=extent, zorder=0)\n",
    "\n",
    "shortest_path_gpd.plot(ax=ax, edgecolor=\"blue\", linewidth=0.5, zorder=2)\n",
    "\n",
    "ax.set_extent(display_extent, crs=ccrs.OSGB())"
   ]
  },
  {
   "cell_type": "code",
   "execution_count": null,
   "metadata": {},
   "outputs": [],
   "source": []
  }
 ],
 "metadata": {
  "kernelspec": {
   "display_name": "Python 3",
   "language": "python",
   "name": "python3"
  },
  "language_info": {
   "codemirror_mode": {
    "name": "ipython",
    "version": 3
   },
   "file_extension": ".py",
   "mimetype": "text/x-python",
   "name": "python",
   "nbconvert_exporter": "python",
   "pygments_lexer": "ipython3",
   "version": "3.7.4"
  }
 },
 "nbformat": 4,
 "nbformat_minor": 2
}
